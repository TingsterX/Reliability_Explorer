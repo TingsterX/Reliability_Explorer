{
 "cells": [
  {
   "cell_type": "markdown",
   "id": "public-colombia",
   "metadata": {},
   "source": [
    "### Intra-class Correlation\n",
    "\n",
    "----\n",
    "\n",
    "### Definition  \n",
    "ANOVA model with Gaussian random effects: ${y}_{it} = {\\mu}_{0} + {\\lambda}_{i} + {\\epsilon}_{it}$, where ${\\lambda}_{t} \\sim N(0, {\\sigma}_{\\lambda}^2), {\\epsilon}_{t} \\sim N(0, {\\sigma}_{\\epsilon}^2)$. \n",
    "- $t$: repetitions (e.g. sessions, scans, sites, etc.), $i$: subjects\n",
    "- ${ICC = corr({y}_{it}, {y}_{it'}) = \\frac{ {\\sigma}_{b}^2 }{ {\\sigma}_{b}^2 + {\\sigma}_{e}^2}}$ for all ${t' \\neq t}$. Assuming the measurements of a same subject form a class, then ${y}_{it}$ and ${y}_{it'}$ are both from the $i$-th class, hence the name (\"**intra-class**\") ([Wang et al., 2020](https://arxiv.org/abs/2005.11911)).\n",
    "\n",
    "Note: Here, the observed individual variation ${\\sigma}_{y}^2$ (i.e. ${\\sigma}_{B}^2$) between $y_{ij}$ is decomposed into \"true\" between-individual variation ${\\sigma}_{b}^2$ across subjects and the within-individual variations (e.g. residual variation ${\\sigma}_{\\epsilon}^2$). ICC is defined as the ratio of between-individual variation divided by the sum of within-individual and between-individual variation.\n",
    "\n",
    "---- "
   ]
  },
  {
   "cell_type": "markdown",
   "id": "hungry-surprise",
   "metadata": {},
   "source": [
    "### ICC models in Linear Mixed Models\n",
    "\n",
    "#### 1. one-way random model\n",
    "\n",
    "- ${y}_{it} = {\\mu}_{0} + {\\lambda}_{i} + {\\epsilon}_{it}$\n",
    "- Random effect: ${\\lambda}_{i} \\sim N(0, {\\sigma}_{\\lambda}^2)$; Residual: ${\\epsilon}_{it} \\sim N(0, {\\sigma}_{\\epsilon}^2)$\n",
    "- $i$: subjects, $t$: repetitions (e.g. sessions, scans, sites, etc.)\n",
    "\n",
    "In **R** package **lme4** with ReML (Restricted Maximum Likelihood)\n",
    "```\n",
    "lmer(y ~ 1 + (1|subID), REML=TRUE)\n",
    "```\n",
    "\n",
    "- ${ICC = \\frac{ {\\sigma}_{b}^2 }{ {\\sigma}_{b}^2 + {\\sigma}_{\\epsilon}^2}}$  (known as **ICC(1,1)**)\n",
    "- ${\\sigma}_{b}^2$ variation between individuals\n",
    "- ${\\sigma}_{\\epsilon}^2$ variation of residuals \n",
    "\n",
    "\n",
    "----\n",
    "\n",
    "#### 2. two-way random model \n",
    "- ${y}_{it} = {\\mu}_{0} + {\\lambda}_{i} + {\\alpha}_{t} + {\\epsilon}_{it}$, \n",
    "- Random effect: ${\\lambda}_{i} \\sim N(0, {\\sigma}_{\\lambda}^2)$, ${\\alpha}_{t} \\sim N(0, {\\sigma}_{\\alpha}^2)$; Residual: ${\\epsilon}_{it} \\sim N(0, {\\sigma}_{\\epsilon}^2)$\n",
    "- $i$: subjects, $t$: repetitions (e.g. sessions, scans, sites, etc.)\n",
    "\n",
    "In **R** package **lme4** with ReML (Restricted Maximum Likelihood)\n",
    "```\n",
    "lmer(y ~ 1 + (1|session) + (1|subID), REML=TRUE)\n",
    "```\n",
    "\n",
    "- ${ICC = \\frac{ {\\sigma}_{b}^2 }{ {\\sigma}_{b}^2 + {\\sigma}_{t}^2 + {\\sigma}_{\\epsilon}^2}}$ (agreement, known as **ICC(2,1)**)\n",
    "- ${ICC = \\frac{ {\\sigma}_{b}^2 }{ {\\sigma}_{b}^2 + {\\sigma}_{\\epsilon}^2}}$ (consistency)\n",
    "- ${\\sigma}_{b}^2$ variation between individuals\n",
    "- ${\\sigma}_{t}^2$ variation between repetitions/raters\n",
    "- ${\\sigma}_{\\epsilon}^2$ variation of residuals \n",
    "\n",
    "\n",
    "----\n",
    "\n",
    "#### 3. two-way mixed model \n",
    "- ${y}_{it} = {\\mu}_{0} + {\\lambda}_{i} + {\\alpha}_{t} + {\\epsilon}_{it}$\n",
    "- Random: ${\\lambda}_{i} \\sim N(0, {\\sigma}_{\\lambda}^2)$, Fixed effect: ${\\alpha}_{t}$, Residual: ${\\epsilon}_{it} \\sim N(0, {\\sigma}_{\\epsilon}^2)$\n",
    "- $i$: subjects, $t$: repetitions (e.g. sessions, scans, sites, etc.)\n",
    "\n",
    "In **R** package **lme4** with ReML (Restricted Maximum Likelihood)\n",
    "```\n",
    "lmer(y ~ 1 + session + (1|subID), REML=TRUE)\n",
    "```\n",
    "\n",
    "- ${ICC = \\frac{ {\\sigma}_{b}^2 }{ {\\sigma}_{b}^2 + {\\sigma}_{\\epsilon}^2}}$ (consistency, known as **ICC(3,1)**)\n",
    "- ${\\sigma}_{b}^2$ variation between individuals\n",
    "- ${\\sigma}_{\\epsilon}^2$ variation of residuals\n",
    "\n",
    "\n",
    "----"
   ]
  },
  {
   "cell_type": "markdown",
   "id": "amended-ranch",
   "metadata": {},
   "source": [
    "#### Reference\n",
    "- K O McGraw & S P Wong (1996). Forming inferences about some intraclass correlation coefficients. Psychological methods. Psychological Methods, 1(1), 30–46. doi: 10.1037/1082-989X.1.1.30\n",
    "\n",
    "- T K Koo & M Y Li (2016). A Guideline of Selecting and Reporting Intraclass Correlation Coefficients for Reliability Research. Journal of Chiropractic Medicine. 15(2):155-63. doi: 10.1016/j.jcm.2016.02.012\n",
    "\n",
    "- Z Wang, E Bridgeford, S Wang, J T. Vogelstein, B Caffo (2020) Statistical Analysis of Data Repeatability Measures. arXiv:2005.11911"
   ]
  }
 ],
 "metadata": {
  "kernelspec": {
   "display_name": "py36",
   "language": "python",
   "name": "py36"
  },
  "language_info": {
   "codemirror_mode": {
    "name": "ipython",
    "version": 3
   },
   "file_extension": ".py",
   "mimetype": "text/x-python",
   "name": "python",
   "nbconvert_exporter": "python",
   "pygments_lexer": "ipython3",
   "version": "3.6.9"
  }
 },
 "nbformat": 4,
 "nbformat_minor": 5
}
